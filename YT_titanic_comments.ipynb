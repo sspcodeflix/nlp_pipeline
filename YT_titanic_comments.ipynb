{
 "cells": [
  {
   "cell_type": "code",
   "execution_count": 1,
   "id": "071382b6-ef6d-45f0-9cdd-f0798b217411",
   "metadata": {
    "tags": []
   },
   "outputs": [
    {
     "data": {
      "text/plain": [
       "'3.8.0'"
      ]
     },
     "execution_count": 1,
     "metadata": {},
     "output_type": "execute_result"
    }
   ],
   "source": [
    "import platform \n",
    "platform.python_version()"
   ]
  },
  {
   "cell_type": "code",
   "execution_count": 2,
   "id": "19051c34-56c6-4d17-ac11-02403efe86b2",
   "metadata": {
    "tags": []
   },
   "outputs": [],
   "source": [
    "#!pip install --upgrade google-auth-oauthlib google-auth-httplib2"
   ]
  },
  {
   "cell_type": "code",
   "execution_count": 3,
   "id": "31a0930f-e222-475a-8fb6-2cafc20709a8",
   "metadata": {
    "tags": []
   },
   "outputs": [],
   "source": [
    "#!pip install --upgrade google-api-python-client"
   ]
  },
  {
   "cell_type": "code",
   "execution_count": 4,
   "id": "08fef5f7-02e6-4e0b-92d3-b06b957c1f57",
   "metadata": {
    "tags": []
   },
   "outputs": [
    {
     "name": "stdin",
     "output_type": "stream",
     "text": [
      "Please enter your YouTube API key:  ········\n"
     ]
    }
   ],
   "source": [
    "import getpass\n",
    "API_KEY = getpass.getpass(\"Please enter your YouTube API key: \")"
   ]
  },
  {
   "cell_type": "code",
   "execution_count": 5,
   "id": "ab9c104e-fdee-4529-8cb0-93599a25dbc1",
   "metadata": {
    "tags": []
   },
   "outputs": [],
   "source": [
    "from googleapiclient.discovery import build\n",
    "\n",
    "client = build('youtube', 'v3', developerKey=API_KEY)"
   ]
  },
  {
   "cell_type": "code",
   "execution_count": 6,
   "id": "88702f9e-805d-489d-854b-a79a33d6af5a",
   "metadata": {},
   "outputs": [],
   "source": [
    "request = client.search().list(\n",
    "    part=\"snippet\",\n",
    "    maxResults=50,\n",
    "    q=\"titanic\",\n",
    "    type=\"video\"\n",
    ")\n",
    "response = request.execute()"
   ]
  },
  {
   "cell_type": "code",
   "execution_count": 7,
   "id": "8509d0d8-456d-4f28-8a32-8201e0fbbdff",
   "metadata": {
    "tags": []
   },
   "outputs": [],
   "source": [
    "ids = list()\n",
    "video_metadata = list()\n",
    "for item in response['items']:\n",
    "    video_item = {\n",
    "        \"ChannelID\": item['snippet']['channelId'],\n",
    "        \"VideoTitle\": item['snippet']['title'],\n",
    "        \"VideoDescription\": item['snippet']['description'],\n",
    "        \"ChannelTitle\": item['snippet']['channelTitle']\n",
    "    }\n",
    "    if item['id']['kind'] == \"youtube#video\":\n",
    "        item.update({\n",
    "            \"VideoID\": item['id']['videoId']\n",
    "        })\n",
    "        ids.append(item['id']['videoId'])\n",
    "    video_metadata.append(video_item)"
   ]
  },
  {
   "cell_type": "code",
   "execution_count": 8,
   "id": "3c4cb25e-4968-4c43-829e-dde244750c9f",
   "metadata": {
    "tags": []
   },
   "outputs": [],
   "source": [
    "import pandas as pd\n",
    "\n",
    "request = client.videos().list(\n",
    "    part=\"snippet,contentDetails,statistics\",\n",
    "    regionCode=\"IN\",\n",
    "    id=\",\".join(ids),\n",
    "    maxResults=50\n",
    ")\n",
    "response = request.execute()"
   ]
  },
  {
   "cell_type": "code",
   "execution_count": 9,
   "id": "e3e06ffa-cb9f-4474-9878-bec439bb7d75",
   "metadata": {
    "tags": []
   },
   "outputs": [],
   "source": [
    "video_meta = list()\n",
    "for video in response['items']:\n",
    "    meta = {\n",
    "        \"VideoID\": video['id'],\n",
    "        \"VideoTitle\": video['snippet']['title'],\n",
    "        \"LikesCount\": video['statistics'].get('likeCount', 'NA'),\n",
    "        \"CommentCount\": video['statistics'].get('commentCount', 'NA'),\n",
    "        \"ViewCount\": video['statistics'].get('viewCount', 'NA')\n",
    "    }\n",
    "    video_meta.append(meta)"
   ]
  },
  {
   "cell_type": "code",
   "execution_count": 10,
   "id": "66df84c3-1802-4066-be9d-63b2c785a03e",
   "metadata": {
    "tags": []
   },
   "outputs": [],
   "source": [
    "video_meta_df = pd.DataFrame.from_dict(video_meta)"
   ]
  },
  {
   "cell_type": "code",
   "execution_count": 11,
   "id": "f90bacac-b1eb-466b-ba26-107ef677bd89",
   "metadata": {
    "tags": []
   },
   "outputs": [],
   "source": [
    "video_meta_df = video_meta_df[video_meta_df[\"LikesCount\"] != \"NA\"]\n",
    "video_meta_df[\"LikesCount\"] = video_meta_df[\"LikesCount\"].astype(int)\n",
    "sorted_video_meta_df = video_meta_df.sort_values(by=[\"LikesCount\"], ascending=False)\n",
    "top_video = sorted_video_meta_df.iloc[0]"
   ]
  },
  {
   "cell_type": "code",
   "execution_count": 12,
   "id": "519d6156-8d99-486f-80fe-e13663244462",
   "metadata": {
    "tags": []
   },
   "outputs": [],
   "source": [
    "metas = list()\n",
    "next_page_token = None\n",
    "video_id = top_video['VideoID']\n",
    "comments_limit = 100\n",
    "loop_count = 0"
   ]
  },
  {
   "cell_type": "code",
   "execution_count": 13,
   "id": "e1477039-ba80-49de-8777-cf5b9b2b92b2",
   "metadata": {
    "tags": []
   },
   "outputs": [],
   "source": [
    "while loop_count < comments_limit:\n",
    "    comments = client.commentThreads().list(\n",
    "        part=\"snippet\",\n",
    "        videoId=video_id,\n",
    "        pageToken=next_page_token\n",
    "    ).execute()\n",
    "    \n",
    "    metas.append(comments)\n",
    "    next_page_token = comments.get('nextPageToken')\n",
    "    loop_count += len(comments['items'])\n",
    "    if not next_page_token:\n",
    "        break"
   ]
  },
  {
   "cell_type": "code",
   "execution_count": 14,
   "id": "c0d52107-5178-4433-98d0-2bc582ef8bac",
   "metadata": {
    "tags": []
   },
   "outputs": [
    {
     "name": "stdout",
     "output_type": "stream",
     "text": [
      "['Nah i spotted the ocean gate in that forst shot 💀', 'Why is this specific ship so important?', '😢😢😢', '&quot;Me:there was an tinitac lost in the the ocean.... &quot;<br>&quot;My dad:that exist&quot;', 'R.I.P.✝️', 'Why did the Titanic sink?<br><br><br> The immediate cause of RMS Titanic&#39;s demise was\\xa0a collision with an iceberg\\xa0that caused the ocean liner to sink on April 14–15, 1912. While the ship could reportedly stay afloat if as many as 4 of its 16 compartments were breached, the impact had affected at least 5 compartments.May 20, 2024', 'No. No.. this can&#39;t be noooooooooo!!!!', 'Lies. They said it will still be there in many many years.', 'Britannic will still live loger then titanic', 'Bro ther is a secert about titanic  like Olipic is titanic   titanic is Olipic  they switch places', 'why is that actually scary', 'RIP TITANIC', 'wtf   that shit is rustic', 'He says it shoed disappear well mabye we need it🟥⬛️⬜️🟨🔴⚫️🟡⚪️🅱️🔙🔱❕ ❤️💛🖤🤍', '<b>titanic</b> <br>Hi guys, you’re probably wondering how I got here 🤷\\u200d♂️', 'Could you buy a peice of Titanic', 'Did u know the pool in the titanic still has water😅 (not begging for likes have a good day!)', 'folks, just leave it alone.', '&quot;Titanic Was Built By Proffesionals , The Ark Was Built By An Amatuer&quot; <br><br>Noah: &quot;I Am The Ark&quot;', 'You can actually see the ocean gate there this did not age well😂😂😂', 'Never mess with God Almighty', 'The caption is Caption smith😊😊', 'At school I learnt about the Titanic 😊', 'The sand where the titanic is resting look like faces', 'Rip titanic 😭 we missed our you', 'It’s shameful how so many people are still trying to monetize off of this historic shipwreck. It is a mass gravesite, for crying out loud. The victims deserve to be allowed to rest in peace. 🤦\\u200d♂️', 'Yes too late to pick up and there&#39;s nothing you can do about right now', 'I would die to actually go travel in that ship without sinking', 'So sad', 'Did you know pool in titanic is still filled water', 'I hope  the Titanic can be raised from the ocean before 20 years', 'Like and subcribe if you love❤ it', 'I hope everyone here knows this was done intentionally.', 'No is the Olympic', 'It’s going to turn into dust', 'Dont think the porcelain bathtub can dissolve, but the ship certainly is wasting away around it', 'I wonder if one day people will be saying it’s a conspiracy and the titanic never actually existed', 'The bottom 💀', '😭😭😭😭😭😭😭😭😭😭😭😭😭', '🚈', 'Oh no titanc', 'That is not the Titanic that is actually the Olympics they both those two ships the Titanic and the Olympics with the names and that actually is the Olympics and the Titanic is secretly pretending to be the Olympics so it&#39;s actually that play Passion right there in the video that&#39;s something that Titanic that&#39;s the Olympics give me a like if you agree', 'So.', 'They need to bring up as much as they can at least. For historic purposes!!! The ship doesn’t care to rest it’s a ship not a living creature after all ‘shes made of iron sir’ she doesn’t rest. Also the people would probably much prefer to have as much remembered about them as possible. Bring her back to “life”!', 'In 2040:5 reasons why the titanic is not real', 'So thats why Thees a new Titanic 666   plus Its a horror movie😮😱', 'its just a ship dissolving. obviously it has great historical value which is why it will never be forgotten. let the damn ship dissolve, its not like anyone has even seen it <b>ahem oceangate</b>', 'Bruv, could you see the small submarine next to it. 💥💀💀', 'R.I.P to the 1053 people who died in this loved ship😞', 'It hit the  iceberg', '“Rest in peace”<br>“REST IN PEACE!?Bruh it didn’t even finish its first voyage its just lazy”', 'NOOO TITANNIC 😭😭😭💀💀', 'They thought it would be gone in 2012. 10 years later it&#39;s still going. But she will buckle. Rust in peace girl', 'Honestly it would have been cool to raise the titanic but in its current state of HEAVY decomposition and decay making it structurally weak it would be better to let it rest there and document/study it the best we can without truly disturbing it', 'Dear ______. Not everything is to dig up', 'Fun fact: some guy said that the Titanic would  crash into the ocean and sink and then it did', 'It will be fused into history and schools would most likely teach ypu about it. Like my primary.', 'Noooo titanic 😢', 'They should give down and try to repair', 'I will never forget this Ship ever😭 I love this ship so much and I have for years it can’t go I love it too much😭', 'Alarming rate? It’s been 112 years.', 'That&#39;s not Titanic that&#39;s actually Olympic', 'The Titan submersible occupants died, they were probably all screaming “we’re all gonna F***king DIE!!!! They were looking out the peep whole window, surrounded by death, even if you tried to pry your way out out of the submersible 10,000 feet below the surface, there’s no hope, you’re dead either way, 10,000 feet below the surface, there’s no hope for you. You got a quick swift death, waiting for you. Nobody in the entire world would be able to help you and you’re just completely completely hopeless, just accept the fact that you’re gonna die in a very violent way, well at least your body will go through a lot of violence, but your spirit will be instantly vanished into the abyss of death.', '&quot;If you can&#39;t raise the titanic then just build a new one&quot;<br>Zack:stop! Thats not the point', '25 years later:<br>&quot;The titanic never existed, heres why...&quot;', 'Why is this bad?', '20 years?  LOL!  We&#39;ve been hearing that for 20 years, and yet the ship is still there.  The ship will likely be recognizable for at least 100 years, and parts of the ship will likely last thousands of years.', 'PULL IT UP !!!', 'just say the submarine is proof', 'Guys you know what the music is in this video', 'First like', 'I wish the titanic will not been gone forever, and it will been rescued by a gigantic submarine to be repaired .😢', 'R.I.P Titanic😭😭😭😭😭😭😭😭😭😭😭😭😭😭😭😭😭😭😭😭😭😭', 'The real question is <br>Why are people so obsessed with that ship?', 'I liked this all better before they found it...😐', 'Y r ppl still talking about this sht', 'Did you know?? The pool in the titanic is still full of water😯😯', 'Well, about the titanic, the are planning on building a second ship. And I heard this from my friend, his dad is a scientist who studies the titanic.', '😅😅😅😅😅', 'We still have her sister britannic', 'The reason why they won’t raise it also is because it’s literally a mass graveyard for over 1500 people i mean let them rest with their family and friends', 'Let it be, let it rest, and disappear in peace', 'Who here 2024 👇', 'who cares? it’s just a ship (no offence)', 'Bro face revealed😊<br>Thnx for 10k likes', 'Now that its gone we won&#39;t have any more idiot, money wasting bilionares going down there and getting killed 😂 (Rip Suleman Dawood he was forced to go :(', 'Did you know that the captain’s bathtub inside of the titanic is still filled with water to this day! LOL🤣', 'Theres ice bergs in the north altantic? I would understand if the ice was north of greenland but not right off of maine?', 'POV: The Last Photo: The bird Feather Be Chillin', '“Goodbye merry” <br>                                 -some pirate', 'Let it go', 'If i knew i didnt have a phobia of water, i would go down there to see the ship :(', 'To everyone who watches this, this is just not true and I have no idea where this idea came from. It will not be completely gone for a long time, definitely not in 20 years and not even in any of our lifetimes. I don’t know why people are so insistent on spreading misinformation about the Titanic', 'I would think letting it reside at the bottom of the ocean and letting the elements and marine life reclaim it is the best thing to happen for it. Let the souls that perished with it have their way around it and let all rest in peace. I think the pictures, film and artifacts that have been reclaimed are more than enough. Has any value that came from any of those items “reclaimed” went to any relatives of those who perished? Let it be', 'This is a good thing let the souls rest', 'I will never understand the utter fascination people have over this ship. There have been huge amounts of ships that have sunk, but none have risen to this level obsession. People have died!!! Just to see this ship.  It&#39;s time to let her rest in peace.', 'RIP to the Titanic', 'Yup', 'Im sure the shell will cave and rotten away. But the boilers, chains and propellers will be there for another century', 'There&#39;s still a lot of photos and artifacts plus a lot of museums around the world so it won&#39;t be completely forgotten']\n"
     ]
    }
   ],
   "source": [
    "all_comments = list()\n",
    "for meta in metas:\n",
    "    for item in meta['items']:\n",
    "        comment = item['snippet']['topLevelComment']['snippet']['textDisplay']\n",
    "        all_comments.append(comment)\n",
    "print(all_comments)"
   ]
  }
 ],
 "metadata": {
  "kernelspec": {
   "display_name": "Python 3 (ipykernel)",
   "language": "python",
   "name": "python3"
  },
  "language_info": {
   "codemirror_mode": {
    "name": "ipython",
    "version": 3
   },
   "file_extension": ".py",
   "mimetype": "text/x-python",
   "name": "python",
   "nbconvert_exporter": "python",
   "pygments_lexer": "ipython3",
   "version": "3.8.0"
  }
 },
 "nbformat": 4,
 "nbformat_minor": 5
}
